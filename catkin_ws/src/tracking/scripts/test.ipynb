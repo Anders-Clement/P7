{
 "cells": [
  {
   "cell_type": "code",
   "execution_count": 100,
   "metadata": {},
   "outputs": [
    {
     "data": {
      "image/png": "[encoded data removed]",
      "text/plain": [
       "<Figure size 432x288 with 2 Axes>"
      ]
     },
     "metadata": {
      "needs_background": "light"
     },
     "output_type": "display_data"
    }
   ],
   "source": [
    "import numpy as np\n",
    "%matplotlib inline \n",
    "import matplotlib.pyplot as plt\n",
    "import pickle\n",
    "from sklearn import cluster\n",
    "from sklearn import metrics\n",
    "\n",
    "from sympy.solvers import solve\n",
    "import sympy as sym\n",
    "\n",
    "from scipy import optimize\n",
    "\n",
    "class VelocityPlotter():\n",
    "    def __init__(self):\n",
    "        personNames = ['person1','person2','person3', 'person4','person5','person6']\n",
    "        colors = ['red', 'green', 'orange', 'cyan', 'magenta', 'black']\n",
    "\n",
    "        picklesToLoad = ['person1.pickle', 'person2.pickle','person3.pickle', 'person4.pickle', 'person5.pickle', 'person6.pickle']\n",
    "        startTimes = [[26.8, 382, 483.3], #person1\n",
    "            [3.6, 352, 446.75], # person2\n",
    "            [9.5, 378, 481.25], # person3\n",
    "            [35.1, 436, 543], #person4\n",
    "            [10.8, 387, 500], # person5\n",
    "            [12.1, 364, 458.25], #person6\n",
    "            ]\n",
    "\n",
    "        dataSets = []\n",
    "        for pickleToLoad in picklesToLoad:\n",
    "            data = pickle.load(open(pickleToLoad, 'rb'))\n",
    "            dataSets.append(data)\n",
    "\n",
    "        newDataset = [[[] for _ in range(4)] for _ in range(len(dataSets))]\n",
    "        for i, dataSet in enumerate(dataSets):\n",
    "            x_log, distance_to_spot_log, time_log_angle, time_log_filter, spot_v_log, time_log_spot = dataSet\n",
    "            for data in zip(x_log, distance_to_spot_log, time_log_angle, time_log_filter):\n",
    "                if data[3] > startTimes[i][1]:\n",
    "                    newDataset[i][0].append(data[0])\n",
    "                    newDataset[i][1].append(data[1])\n",
    "                    newDataset[i][2].append(data[2])\n",
    "                    newDataset[i][3].append(data[3])\n",
    "        self.all_distance = []\n",
    "        self.all_vel = []\n",
    "        self.all_angles = []\n",
    "\n",
    "        #fig2, ax2 = plt.subplots(1)\n",
    "\n",
    "        for j, dataSet in enumerate(newDataset):\n",
    "            x_log, distance_to_spot_log, time_log_angle, time_log_filter = dataSet\n",
    "\n",
    "            #fig, ax = plt.subplots(1)\n",
    "            for i in range(len(time_log_angle)):\n",
    "                time_log_angle[i] = (time_log_angle[i]-np.pi) * (180/np.pi)\n",
    "\n",
    "            person_velocity = []\n",
    "            for i in range(len(x_log)):\n",
    "                person_velocity.append( np.linalg.norm( np.array(x_log[i])[3:5] ) )\n",
    "\n",
    "            bool_array = np.array(person_velocity) > 0.25\n",
    "            person_velocity = list(np.array(person_velocity)[bool_array == True])\n",
    "            distance_to_spot_log = list(np.array(distance_to_spot_log)[bool_array == True])\n",
    "            time_log_angle = list(np.array(time_log_angle)[bool_array == True])\n",
    "            time_log_filter = list(np.array(time_log_filter)[bool_array == True])\n",
    "\n",
    "            #print(len(distance_to_spot_log))\n",
    "            #print(len(time_log_angle))\n",
    "            #print(len(time_log_filter))\n",
    "\n",
    "            self.all_distance = self.all_distance + distance_to_spot_log\n",
    "            self.all_vel = self.all_vel  + person_velocity\n",
    "            self.all_angles = self.all_angles + time_log_angle\n",
    "\n",
    "            filter = np.array(distance_to_spot_log) < 3.5\n",
    "            coefs = np.polyfit(np.array(person_velocity)[filter == True], np.array(distance_to_spot_log)[filter == True], 2)\n",
    "\n",
    "            # X = np.arange(0.1, 1.4, 0.1)\n",
    "            # ax.plot(X, np.polyval(coefs, X), color=\"black\")\n",
    "            # ax.plot(np.array(person_velocity)[filter == True], np.array(distance_to_spot_log)[filter == True], 'o', label=personNames[j], color=colors[j])\n",
    "            # ax.set_ylabel('Distance to Spot [m]')\n",
    "            # ax.set_xlabel('Speed [m/s]')\n",
    "            # ax.legend()\n",
    "            # ax.set_ylim([0.5, 3.5])\n",
    "\n",
    "            # ax2.plot(np.array(person_velocity)[filter == True], np.array(distance_to_spot_log)[filter == True], 'o', markersize=1, label=personNames[j], color=colors[j])\n",
    "            # ax2.set_ylabel('Distance to Spot [m]')\n",
    "            # ax2.set_xlabel('Speed [m/s]')\n",
    "            # ax2.legend()\n",
    "            # ax2.set_ylim([0.5, 3.5])\n",
    "            #print(\"dist:\" ,personNames[j], np.median(distance_to_spot_log))\n",
    "            #print(\"angle:\" ,personNames[j], np.median(time_log_angle))\n",
    "\n",
    "\n",
    "        #fig, ax3 = plt.subplots(1)\n",
    "        self.X = np.arange(0, 1.5, 0.1)\n",
    "        self.Y = np.arange(0, 3.5, 0.1)\n",
    "\n",
    "        filter = np.array(self.all_distance) < 3.5\n",
    "        coefs = np.polyfit(np.array(self.all_vel)[filter == True], np.array(self.all_distance)[filter == True], 1)\n",
    "        self.coefs = coefs\n",
    "        self.filtered = (np.array(self.all_vel)[filter == True], np.array(self.all_distance)[filter == True])\n",
    "        #ax2.plot(X, np.polyval(coefs, X), color=\"black\")\n",
    "\n",
    "        fig2, ax5 = plt.subplots(2)\n",
    "\n",
    "        def point_on_curve(x0, y0):\n",
    "            x_min = sym.Symbol('x')\n",
    "            mean = np.polyval(coefs, x_min)\n",
    "            the_diff = sym.diff( sym.sqrt( (x_min - x0)**2 + (mean - y0)**2 ), x_min )\n",
    "            return_var = solve(the_diff, x_min)\n",
    "            return float(sym.re(return_var[0])), float(sym.re(np.polyval(coefs, return_var[0])))\n",
    "\n",
    "        def equation(x):\n",
    "            x_min, y_min = point_on_curve(x[0], x[1])\n",
    "\n",
    "            distance = sym.sqrt( (x_min - x[0])**2 + (y_min - x[1])**2 )#\n",
    "\n",
    "            x1 = 1.4\n",
    "            y1 = np.polyval(coefs, x1)\n",
    "\n",
    "            arc_length = sym.sqrt((x1 - x_min)**2 + (y1 - y_min)**2)\n",
    "            #print(x)\n",
    "            #print(sym.re(distance + arc_length))\n",
    "            return float(sym.re(distance + arc_length))\n",
    "\n",
    "        def func3d(x0, y0):\n",
    "            x2, y2 = point_on_curve(x0, y0)\n",
    "            dist = sym.sqrt( (x2 - x0)**2 + (y2 - y0)**2 )\n",
    "\n",
    "            x1 = 1.4\n",
    "            y1 = np.polyval(coefs, x1)\n",
    "\n",
    "            arc_length = np.linalg.norm([x1 - x2,\n",
    "                                        y1 - y2])\n",
    "\n",
    "            if float(sym.re(dist + arc_length)) < 0.2:\n",
    "                return 0.2\n",
    "\n",
    "            return float(sym.re(dist + arc_length))\n",
    "\n",
    "        func3d_vectorized = np.vectorize(func3d, cache=True)\n",
    "        X, Y = np.meshgrid(self.X, self.Y)\n",
    "        self.Z = np.asfarray(func3d_vectorized(X, Y))\n",
    "\n",
    "\n",
    "letsgoo = VelocityPlotter()"
   ]
  },
  {
   "cell_type": "code",
   "execution_count": 101,
   "metadata": {},
   "outputs": [
    {
     "data": {
      "text/plain": [
       "<matplotlib.contour.QuadContourSet at 0x7fcfbb4243a0>"
      ]
     },
     "execution_count": 101,
     "metadata": {},
     "output_type": "execute_result"
    },
    {
     "data": {
      "image/png": "[encoded data removed]",
      "text/plain": [
       "<Figure size 432x288 with 1 Axes>"
      ]
     },
     "metadata": {
      "needs_background": "light"
     },
     "output_type": "display_data"
    }
   ],
   "source": [
    "fig, ax3 = plt.subplots(1)\n",
    "cm = plt.cm.get_cmap('viridis')\n",
    "ax3.contourf(letsgoo.X, letsgoo.Y, letsgoo.Z)\n",
    "ax3.plot(letsgoo.X, np.polyval(letsgoo.coefs, letsgoo.X))"
   ]
  },
  {
   "cell_type": "code",
   "execution_count": 109,
   "metadata": {},
   "outputs": [
    {
     "data": {
      "image/png": "[encoded data removed]",
      "text/plain": [
       "<Figure size 432x288 with 1 Axes>"
      ]
     },
     "metadata": {
      "needs_background": "light"
     },
     "output_type": "display_data"
    }
   ],
   "source": [
    "fig, ax3 = plt.subplots(1)\n",
    "cm = plt.cm.get_cmap('viridis')\n",
    "ax3.contourf(letsgoo.X, letsgoo.Y, letsgoo.Z)\n",
    "\n",
    "x_i = 1\n",
    "y_i = 16\n",
    "Last_cost = letsgoo.Z[y_i, x_i]\n",
    "iteration = 0\n",
    "while True: #not (1.4 + 0.01 > letsgoo.X[x_i] > 1.4 - 0.01):\n",
    "    iteration += 1\n",
    "    if iteration > 20:\n",
    "        break\n",
    "    new_x = x_i\n",
    "    new_y = y_i\n",
    "    for x in range(-1, 2):\n",
    "        for y in range(-1, 2):\n",
    "            if letsgoo.Z[y_i + y, x_i + x] < Last_cost:\n",
    "                new_x = x_i + x\n",
    "                new_y = y_i + y\n",
    "                Last_cost = letsgoo.Z[y_i + y, x_i + x]\n",
    "\n",
    "    x_i = new_x\n",
    "    y_i = new_y\n",
    "    \n",
    "    ax3.plot(letsgoo.X[x_i], letsgoo.Y[y_i], 'o')"
   ]
  },
  {
   "cell_type": "code",
   "execution_count": 103,
   "metadata": {},
   "outputs": [
    {
     "name": "stdout",
     "output_type": "stream",
     "text": [
      "[0.22691266]\n",
      "[0.22469641]\n",
      "[0.22469596]\n",
      "[0.2204038]\n"
     ]
    }
   ],
   "source": [
    "print(np.polyfit(letsgoo.filtered[0], letsgoo.filtered[1], 1, full=True)[1] / len(letsgoo.filtered[0]))\n",
    "print(np.polyfit(letsgoo.filtered[0], letsgoo.filtered[1], 2, full=True)[1] / len(letsgoo.filtered[0]))\n",
    "print(np.polyfit(letsgoo.filtered[0], letsgoo.filtered[1], 3, full=True)[1] / len(letsgoo.filtered[0]))\n",
    "print(np.polyfit(letsgoo.filtered[0], letsgoo.filtered[1], 4, full=True)[1] / len(letsgoo.filtered[0]))"
   ]
  },
  {
   "cell_type": "code",
   "execution_count": 104,
   "metadata": {},
   "outputs": [],
   "source": [
    "import pickle\n",
    "\n",
    "pickle.dump((letsgoo.X, letsgoo.Y, letsgoo.Z), open(\"gradients.pickle\", \"wb\"))"
   ]
  }
 ],
 "metadata": {
  "interpreter": {
   "hash": "767d51c1340bd893661ea55ea3124f6de3c7a262a8b4abca0554b478b1e2ff90"
  },
  "kernelspec": {
   "display_name": "Python 3.8.10 64-bit",
   "language": "python",
   "name": "python3"
  },
  "language_info": {
   "codemirror_mode": {
    "name": "ipython",
    "version": 3
   },
   "file_extension": ".py",
   "mimetype": "text/x-python",
   "name": "python",
   "nbconvert_exporter": "python",
   "pygments_lexer": "ipython3",
   "version": "3.8.10"
  },
  "orig_nbformat": 4
 },
 "nbformat": 4,
 "nbformat_minor": 2
}
