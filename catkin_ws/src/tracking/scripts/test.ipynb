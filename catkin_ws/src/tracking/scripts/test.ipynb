{
 "cells": [
  {
   "cell_type": "code",
   "execution_count": 43,
   "metadata": {},
   "outputs": [],
   "source": [
    "import numpy as np\n",
    "%matplotlib tk\n",
    "import matplotlib.pyplot as plt\n",
    "import pickle\n",
    "from sklearn import cluster\n",
    "from sklearn import metrics\n",
    "\n",
    "from sympy.solvers import solve\n",
    "import sympy as sym\n",
    "\n",
    "from scipy import optimize"
   ]
  },
  {
   "cell_type": "code",
   "execution_count": 46,
   "metadata": {},
   "outputs": [],
   "source": [
    "class VelocityPlotter():\n",
    "    def __init__(self):\n",
    "        personNames = ['person1','person2','person3', 'person4','person5','person6']\n",
    "        colors = ['red', 'green', 'orange', 'cyan', 'magenta', 'black']\n",
    "\n",
    "        picklesToLoad = ['person1.pickle', 'person2.pickle','person3.pickle', 'person4.pickle', 'person5.pickle', 'person6.pickle']\n",
    "        startTimes = [[26.8, 382, 483.3], #person1\n",
    "            [3.6, 352, 446.75], # person2\n",
    "            [9.5, 378, 481.25], # person3\n",
    "            [35.1, 436, 543], #person4\n",
    "            [10.8, 387, 500], # person5\n",
    "            [12.1, 364, 458.25], #person6\n",
    "            ]\n",
    "\n",
    "        self.x, self.y = sym.symbols('x y')\n",
    "        self.k1, self.k2 = sym.symbols('k1 k2')\n",
    "\n",
    "        self.eq_y = None\n",
    "        self.eq_x = None\n",
    "\n",
    "        dataSets = []\n",
    "        for pickleToLoad in picklesToLoad:\n",
    "            data = pickle.load(open(pickleToLoad, 'rb'))\n",
    "            dataSets.append(data)\n",
    "\n",
    "        newDataset = [[[] for _ in range(4)] for _ in range(len(dataSets))]\n",
    "        for i, dataSet in enumerate(dataSets):\n",
    "            x_log, distance_to_spot_log, time_log_angle, time_log_filter, spot_v_log, time_log_spot = dataSet\n",
    "            for data in zip(x_log, distance_to_spot_log, time_log_angle, time_log_filter):\n",
    "                if startTimes[i][1] > data[3] > startTimes[i][0]:\n",
    "                    newDataset[i][0].append(data[0])\n",
    "                    newDataset[i][1].append(data[1])\n",
    "                    newDataset[i][2].append(data[2])\n",
    "                    newDataset[i][3].append(data[3])\n",
    "        self.all_distance = []\n",
    "        self.all_vel = []\n",
    "        self.all_angles = []\n",
    "\n",
    "        fig2, ax2 = plt.subplots(1)\n",
    "\n",
    "        for j, dataSet in enumerate(newDataset):\n",
    "            x_log, distance_to_spot_log, time_log_angle, time_log_filter = dataSet\n",
    "\n",
    "            #fig, ax = plt.subplots(1)\n",
    "            for i in range(len(time_log_angle)):\n",
    "                time_log_angle[i] = (time_log_angle[i]-np.pi) * (180/np.pi)\n",
    "\n",
    "            person_velocity = []\n",
    "            for i in range(len(x_log)):\n",
    "                person_velocity.append( np.linalg.norm( np.array(x_log[i])[3:5] ) )\n",
    "\n",
    "            bool_array = np.array(person_velocity) > 0.25\n",
    "            person_velocity = list(np.array(person_velocity)[bool_array == True])\n",
    "            distance_to_spot_log = list(np.array(distance_to_spot_log)[bool_array == True])\n",
    "            time_log_angle = list(np.array(time_log_angle)[bool_array == True])\n",
    "            time_log_filter = list(np.array(time_log_filter)[bool_array == True])\n",
    "\n",
    "            #print(len(distance_to_spot_log))\n",
    "            #print(len(time_log_angle))\n",
    "            #print(len(time_log_filter))\n",
    "\n",
    "            self.all_distance = self.all_distance + distance_to_spot_log\n",
    "            self.all_vel = self.all_vel  + person_velocity\n",
    "            self.all_angles = self.all_angles + time_log_angle\n",
    "\n",
    "            filter = np.array(distance_to_spot_log) < 3.5\n",
    "            coefs = np.polyfit(np.array(person_velocity)[filter == True], np.array(distance_to_spot_log)[filter == True], 1)\n",
    "\n",
    "            # X = np.arange(0.1, 1.4, 0.1)\n",
    "            # ax.plot(X, np.polyval(coefs, X), color=\"black\")\n",
    "            # ax.plot(np.array(person_velocity)[filter == True], np.array(distance_to_spot_log)[filter == True], 'o', label=personNames[j], color=colors[j])\n",
    "            # ax.set_ylabel('Distance to Spot [m]')\n",
    "            # ax.set_xlabel('Speed [m/s]')\n",
    "            # ax.legend()\n",
    "            # ax.set_ylim([0.5, 3.5])\n",
    "\n",
    "            ax2.plot(np.array(person_velocity)[filter == True], np.array(distance_to_spot_log)[filter == True], 'o', markersize=1, label=personNames[j], color=colors[j])\n",
    "            ax2.set_ylabel('Distance to Spot [m]')\n",
    "            ax2.set_xlabel('Speed [m/s]')\n",
    "            ax2.legend()\n",
    "            ax2.set_ylim([0.5, 3.5])\n",
    "            ax2.set_xlim([0.1, 1.5])\n",
    "            #print(\"dist:\" ,personNames[j], np.median(distance_to_spot_log))\n",
    "            #print(\"angle:\" ,personNames[j], np.median(time_log_angle))\n",
    "\n",
    "\n",
    "        #fig, ax3 = plt.subplots(1)\n",
    "        self.X = np.arange(-2, 5, 0.5)\n",
    "        self.Y = np.arange(0, 10, 0.5)\n",
    "\n",
    "        filter = np.array(self.all_distance) < 3.5\n",
    "        self.coefs = np.polyfit(np.array(self.all_vel)[filter == True], np.array(self.all_distance)[filter == True], 1)\n",
    "        #self.coefs = np.array([1, 0])\n",
    "\n",
    "        self.filtered = (np.array(self.all_vel)[filter == True], np.array(self.all_distance)[filter == True])\n",
    "        ax2.plot(self.X, np.polyval(self.coefs, self.X), color=\"black\")\n",
    "\n",
    "        fig2, ax5 = plt.subplots(1)\n",
    "\n",
    "        def point_on_curve(x0, y0):\n",
    "            x_min = sym.Symbol('x')\n",
    "            mean = np.polyval(self.coefs, x_min)\n",
    "            the_diff = sym.diff( sym.sqrt( (x_min - x0)**2 + (mean - y0)**2 ), x_min )\n",
    "            return_var = solve(the_diff, x_min)\n",
    "            return float(sym.re(return_var[0])), float(sym.re(np.polyval(self.coefs, return_var[0])))\n",
    "\n",
    "        def equation(x):\n",
    "            x_min, y_min = point_on_curve(x[0], x[1])\n",
    "\n",
    "            distance = sym.sqrt( (x_min - x[0])**2 + (y_min - x[1])**2 )#\n",
    "\n",
    "            x1 = 1.4\n",
    "            y1 = np.polyval(self.coefs, x1)\n",
    "\n",
    "            arc_length = sym.sqrt((x1 - x_min)**2 + (y1 - y_min)**2)\n",
    "            return float(sym.re(distance + arc_length))\n",
    "\n",
    "        def func3d(x0, y0):\n",
    "            x2, y2 = point_on_curve(x0, y0)\n",
    "            dist = sym.sqrt( (x2 - x0)**2 + (y2 - y0)**2 )\n",
    "\n",
    "            x1 = 1.4\n",
    "            y1 = np.polyval(self.coefs, x1)\n",
    "\n",
    "            arc_length = np.linalg.norm([x1 - x2,\n",
    "                                        y1 - y2])\n",
    "\n",
    "            if float(sym.re(dist + arc_length)) < 0.2:\n",
    "                return 0.2\n",
    "\n",
    "            return float(sym.re(dist + arc_length))\n",
    "\n",
    "        def point_on_line(x0, y0):\n",
    "            a,b = self.coefs[0], self.coefs[1]\n",
    "\n",
    "            y = y0 - b\n",
    "            vector = np.array([1, a])\n",
    "            the_length = np.dot(np.array([x0, y]), vector) / np.dot(vector, vector)\n",
    "            point = (the_length * vector)\n",
    "            return point[0], point[1] + b\n",
    "\n",
    "        def func3dLinear(x0, y0):\n",
    "            x1, y1 = point_on_line(x0, y0)\n",
    "\n",
    "            kp_dist = 0.2\n",
    "            kp_vel = 0.4\n",
    "\n",
    "            #return sym.sqrt((x0500 - x1)**2 + (y0 - y1)**2)\n",
    "            #return sym.sqrt( (1.4 - x1)**2 + (np.polyval(self.coefs, 1.4) - y1)**2 ) + sym.sqrt((x0 - x1)**2 + (y0 - y1)**2)**2\n",
    "            return self.k1*((np.polyval(self.coefs, x0) - y0)**2) + self.k2*((1.4 - x0)**2)\n",
    "\n",
    "        def quiver(x0, y0):\n",
    "            if self.eq_x == None:\n",
    "                eq = func3dLinear(self.x, self.y)\n",
    "                self.eq_x = eq.diff(self.x)\n",
    "                self.eq_y = eq.diff(self.y)\n",
    "\n",
    "            return (float(self.eq_x.subs(self.x, x0).subs(self.y, y0).subs(self.k1, 1).subs(self.k2, 1)),\n",
    "             float(self.eq_y.subs(self.x, x0).subs(self.y, y0).subs(self.k1, 1).subs(self.k2, 1)))\n",
    "\n",
    "        self.grads = np.zeros((len(self.X), len(self.Y), 2))\n",
    "        for ind_x, x in enumerate(self.X):\n",
    "            for ind_y, y in enumerate(self.Y):\n",
    "                values = quiver(x, y)\n",
    "                self.grads[ind_x, ind_y, :] = np.asfarray(values)\n",
    "                ax5.quiver(x, y, -values[0], -values[1])\n",
    "\n",
    "        #func3d_vectorized = np.vectorize(func3dLinear)\n",
    "        #self.Z = np.zeros((len(self.Y),len(self.X)))\n",
    "        #for x_ind, x_val in enumerate(self.X):\n",
    "        #    for y_ind, y_val in enumerate(self.Y):\n",
    "        #        self.Z[y_ind, x_ind] = func3dLinear(x_val, y_val)\n",
    "    \n",
    "        #X, Y = np.meshgrid(self.X, self.Y)\n",
    "        #self.Z = np.asfarray(func3d_vectorized(Y, X))\n",
    "\n",
    "\n",
    "\n",
    "letsgoo = VelocityPlotter()"
   ]
  },
  {
   "cell_type": "code",
   "execution_count": 47,
   "metadata": {},
   "outputs": [
    {
     "ename": "AttributeError",
     "evalue": "'VelocityPlotter' object has no attribute 'Z'",
     "output_type": "error",
     "traceback": [
      "\u001b[0;31m---------------------------------------------------------------------------\u001b[0m",
      "\u001b[0;31mAttributeError\u001b[0m                            Traceback (most recent call last)",
      "\u001b[0;32m/tmp/ipykernel_18162/75467058.py\u001b[0m in \u001b[0;36m<module>\u001b[0;34m\u001b[0m\n\u001b[1;32m      1\u001b[0m \u001b[0mfig\u001b[0m\u001b[0;34m,\u001b[0m \u001b[0max3\u001b[0m \u001b[0;34m=\u001b[0m \u001b[0mplt\u001b[0m\u001b[0;34m.\u001b[0m\u001b[0msubplots\u001b[0m\u001b[0;34m(\u001b[0m\u001b[0;36m1\u001b[0m\u001b[0;34m)\u001b[0m\u001b[0;34m\u001b[0m\u001b[0;34m\u001b[0m\u001b[0m\n\u001b[1;32m      2\u001b[0m \u001b[0mcm\u001b[0m \u001b[0;34m=\u001b[0m \u001b[0mplt\u001b[0m\u001b[0;34m.\u001b[0m\u001b[0mcm\u001b[0m\u001b[0;34m.\u001b[0m\u001b[0mget_cmap\u001b[0m\u001b[0;34m(\u001b[0m\u001b[0;34m'viridis'\u001b[0m\u001b[0;34m)\u001b[0m\u001b[0;34m\u001b[0m\u001b[0;34m\u001b[0m\u001b[0m\n\u001b[0;32m----> 3\u001b[0;31m \u001b[0max3\u001b[0m\u001b[0;34m.\u001b[0m\u001b[0mcontourf\u001b[0m\u001b[0;34m(\u001b[0m\u001b[0mletsgoo\u001b[0m\u001b[0;34m.\u001b[0m\u001b[0mX\u001b[0m\u001b[0;34m,\u001b[0m \u001b[0mletsgoo\u001b[0m\u001b[0;34m.\u001b[0m\u001b[0mY\u001b[0m\u001b[0;34m,\u001b[0m \u001b[0mletsgoo\u001b[0m\u001b[0;34m.\u001b[0m\u001b[0mZ\u001b[0m\u001b[0;34m,\u001b[0m \u001b[0;36m50\u001b[0m\u001b[0;34m)\u001b[0m\u001b[0;34m\u001b[0m\u001b[0;34m\u001b[0m\u001b[0m\n\u001b[0m\u001b[1;32m      4\u001b[0m \u001b[0max3\u001b[0m\u001b[0;34m.\u001b[0m\u001b[0mplot\u001b[0m\u001b[0;34m(\u001b[0m\u001b[0mletsgoo\u001b[0m\u001b[0;34m.\u001b[0m\u001b[0mX\u001b[0m\u001b[0;34m,\u001b[0m \u001b[0mnp\u001b[0m\u001b[0;34m.\u001b[0m\u001b[0mpolyval\u001b[0m\u001b[0;34m(\u001b[0m\u001b[0mletsgoo\u001b[0m\u001b[0;34m.\u001b[0m\u001b[0mcoefs\u001b[0m\u001b[0;34m,\u001b[0m \u001b[0mletsgoo\u001b[0m\u001b[0;34m.\u001b[0m\u001b[0mX\u001b[0m\u001b[0;34m)\u001b[0m\u001b[0;34m,\u001b[0m \u001b[0;34m'r-'\u001b[0m\u001b[0;34m)\u001b[0m\u001b[0;34m\u001b[0m\u001b[0;34m\u001b[0m\u001b[0m\n\u001b[1;32m      5\u001b[0m \u001b[0max3\u001b[0m\u001b[0;34m.\u001b[0m\u001b[0mset_xlim\u001b[0m\u001b[0;34m(\u001b[0m\u001b[0;34m[\u001b[0m\u001b[0;36m0\u001b[0m\u001b[0;34m,\u001b[0m\u001b[0;36m5\u001b[0m\u001b[0;34m]\u001b[0m\u001b[0;34m)\u001b[0m\u001b[0;34m\u001b[0m\u001b[0;34m\u001b[0m\u001b[0m\n",
      "\u001b[0;31mAttributeError\u001b[0m: 'VelocityPlotter' object has no attribute 'Z'"
     ]
    }
   ],
   "source": [
    "fig, ax3 = plt.subplots(1)\n",
    "cm = plt.cm.get_cmap('viridis')\n",
    "#ax3.contourf(letsgoo.X, letsgoo.Y, letsgoo.Z, 50)\n",
    "#ax3.plot(letsgoo.X, np.polyval(letsgoo.coefs, letsgoo.X), 'r-')\n",
    "#ax3.set_xlim([0,5])\n",
    "#ax3.set_ylim([0,5])\n",
    "#letsgoo.coefs\n",
    "\n",
    "print([sym.simplify(letsgoo.eq_x), sym.simplify(letsgoo.eq_y)])"
   ]
  },
  {
   "cell_type": "code",
   "execution_count": null,
   "metadata": {},
   "outputs": [
    {
     "name": "stdout",
     "output_type": "stream",
     "text": [
      "0.525930084844368\n"
     ]
    }
   ],
   "source": [
    "fig, ax3 = plt.subplots(1)\n",
    "cm = plt.cm.get_cmap('viridis')\n",
    "ax3.plot(letsgoo.X, np.polyval(letsgoo.coefs, letsgoo.X), 'r-')\n",
    "\n",
    "x1, y1 = 1, 2\n",
    "\n",
    "ax3.plot(x1, y1, 'ro')\n",
    "\n",
    "\n",
    "def point_on_line(x0, y0):\n",
    "    a,b = letsgoo.coefs[0], letsgoo.coefs[1]\n",
    "    y = y0 - b\n",
    "    vector = np.array([1, a])\n",
    "    the_length = np.dot(np.array([x0, y]), np.transpose(vector)) / np.dot(np.transpose(vector), vector)\n",
    "    point = (the_length * vector) + np.array([0, b])\n",
    "    return point\n",
    "\n",
    "\n",
    "ax3.plot(point_on_line(x1,y1)[0], point_on_line(x1,y1)[1], 'ro')\n",
    "\n",
    "print(sym.sqrt( (1.4 - point_on_line(x1,y1)[0])**2 + (np.polyval(letsgoo.coefs, 1.4) - point_on_line(x1,y1)[1])**2 ))\n"
   ]
  },
  {
   "cell_type": "code",
   "execution_count": null,
   "metadata": {},
   "outputs": [],
   "source": [
    "fig, ax3 = plt.subplots(1)\n",
    "cm = plt.cm.get_cmap('viridis')\n",
    "ax3.contourf(letsgoo.X, letsgoo.Y, letsgoo.Z)\n",
    "\n",
    "x_i = 1\n",
    "y_i = 1\n",
    "Last_cost = letsgoo.Z[y_i, x_i]\n",
    "iteration = 0\n",
    "while True: #not (1.4 + 0.01 > letsgoo.X[x_i] > 1.4 - 0.01):\n",
    "    iteration += 1\n",
    "    if iteration > 50:\n",
    "        break\n",
    "    new_x = x_i\n",
    "    new_y = y_i\n",
    "    for x in range(-1, 2):\n",
    "        for y in range(-1, 2):\n",
    "            if letsgoo.Z[y_i + y, x_i + x] < Last_cost:\n",
    "                new_x = x_i + x\n",
    "                new_y = y_i + y\n",
    "                Last_cost = letsgoo.Z[y_i + y, x_i + x]\n",
    "\n",
    "    x_i = new_x\n",
    "    y_i = new_y\n",
    "    \n",
    "    ax3.plot(letsgoo.X[x_i], letsgoo.Y[y_i], 'o')"
   ]
  },
  {
   "cell_type": "code",
   "execution_count": null,
   "metadata": {},
   "outputs": [
    {
     "name": "stdout",
     "output_type": "stream",
     "text": [
      "rSquared:  0.35910237303077575\n",
      "rSquared:  0.3780233587026233\n",
      "rSquared:  0.4094850453367208\n",
      "rSquared:  0.4145768119160963\n",
      "rSquared:  0.415720663593014\n",
      "rSquared:  0.41595788434227726\n",
      "rSquared:  0.4164028486118921\n",
      "rSquared:  0.4164061203975021\n",
      "rSquared:  0.4214773482509907\n",
      "rSquared:  0.4230772684668947\n",
      "rSquared:  0.4230772699172622\n",
      "rSquared:  0.4259557357191395\n",
      "rSquared:  0.4275705445138496\n",
      "rSquared:  0.4407208059074988\n"
     ]
    },
    {
     "data": {
      "text/plain": [
       "[array([0.12173258]),\n",
       " array([0.11813871]),\n",
       " array([0.11216285]),\n",
       " array([0.11119572]),\n",
       " array([0.11097846]),\n",
       " array([0.1109334]),\n",
       " array([0.11084888]),\n",
       " array([0.11084826]),\n",
       " array([0.10988503]),\n",
       " array([0.10958114]),\n",
       " array([0.10958114]),\n",
       " array([0.10903439]),\n",
       " array([0.10872767]),\n",
       " array([0.10622979])]"
      ]
     },
     "execution_count": 36,
     "metadata": {},
     "output_type": "execute_result"
    }
   ],
   "source": [
    "vale = []\n",
    "for i in range(1, 15):\n",
    "    polynomial = np.polyfit(letsgoo.filtered[0], letsgoo.filtered[1], i, full=True)\n",
    "    vale.append(polynomial[1] / len(letsgoo.filtered[0]))\n",
    "\n",
    "    # r-squared\n",
    "    p = np.poly1d(polynomial[0])\n",
    "    # fit values, and mean\n",
    "    yhat = p(letsgoo.filtered[0])                         # or [p(z) for z in x]\n",
    "    ybar = np.sum(letsgoo.filtered[1])/len(letsgoo.filtered[1])          # or sum(y)/len(y)\n",
    "    ssreg = np.sum((yhat-ybar)**2)   # or sum([ (yihat - ybar)**2 for yihat in yhat])\n",
    "    sstot = np.sum((letsgoo.filtered[1] - ybar)**2)    # or sum([ (yi - ybar)**2 for yi in y])\n",
    "    print(\"rSquared: \", ssreg/sstot)\n",
    "\n",
    "vale"
   ]
  },
  {
   "cell_type": "code",
   "execution_count": null,
   "metadata": {},
   "outputs": [
    {
     "data": {
      "text/plain": [
       "[<matplotlib.lines.Line2D at 0x7f0f5f4d39a0>]"
      ]
     },
     "execution_count": 37,
     "metadata": {},
     "output_type": "execute_result"
    }
   ],
   "source": [
    "plt.plot(range(1, len(vale) + 1),vale)"
   ]
  },
  {
   "cell_type": "code",
   "execution_count": null,
   "metadata": {},
   "outputs": [
    {
     "name": "stderr",
     "output_type": "stream",
     "text": [
      "/tmp/ipykernel_18162/571970758.py:2: MatplotlibDeprecationWarning: Calling gca() with keyword arguments was deprecated in Matplotlib 3.4. Starting two minor releases later, gca() will take no keyword arguments. The gca() function should only be used to get the current axes, or if no axes exist, create new axes with default keyword arguments. To create a new axes with non-default arguments, use plt.axes() or plt.subplot().\n",
      "  ax3 = fig.gca(projection='3d')\n"
     ]
    },
    {
     "data": {
      "text/plain": [
       "Text(0.5, 0, 'Cost')"
      ]
     },
     "execution_count": 38,
     "metadata": {},
     "output_type": "execute_result"
    }
   ],
   "source": [
    "fig = plt.figure()\n",
    "ax3 = fig.gca(projection='3d')\n",
    "\n",
    "X, Y = np.meshgrid(letsgoo.X, letsgoo.Y)\n",
    "Z = letsgoo.Z\n",
    "\n",
    "ax3.plot_surface(X, Y, Z, cmap='jet')\n",
    "\n",
    "ax3.set_ylabel('Distance to spot [m]')\n",
    "ax3.set_xlabel('Speed [m/s]')\n",
    "ax3.set_zlabel('Cost')"
   ]
  },
  {
   "cell_type": "code",
   "execution_count": null,
   "metadata": {},
   "outputs": [],
   "source": [
    "import pickle\n",
    "\n",
    "pickle.dump((letsgoo.X, letsgoo.Y, letsgoo.grads), open(\"gradients.pickle\", \"wb\"))"
   ]
  },
  {
   "cell_type": "code",
   "execution_count": null,
   "metadata": {},
   "outputs": [],
   "source": [
    "fig2, ax5 = plt.subplots(1)\n",
    "X, Y, grads = pickle.load(open(\"gradients.pickle\", 'rb'))\n",
    "for ind_x, x in enumerate(X):\n",
    "    for ind_y, y in enumerate(Y):\n",
    "        ax5.quiver(x, y, -grads[ind_x, ind_y, 0], -grads[ind_x, ind_y, 1])"
   ]
  }
 ],
 "metadata": {
  "interpreter": {
   "hash": "767d51c1340bd893661ea55ea3124f6de3c7a262a8b4abca0554b478b1e2ff90"
  },
  "kernelspec": {
   "display_name": "Python 3.8.10 64-bit",
   "language": "python",
   "name": "python3"
  },
  "language_info": {
   "codemirror_mode": {
    "name": "ipython",
    "version": 3
   },
   "file_extension": ".py",
   "mimetype": "text/x-python",
   "name": "python",
   "nbconvert_exporter": "python",
   "pygments_lexer": "ipython3",
   "version": "3.8.10"
  },
  "orig_nbformat": 4
 },
 "nbformat": 4,
 "nbformat_minor": 2
}
