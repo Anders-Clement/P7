{
 "cells": [
  {
   "cell_type": "code",
   "execution_count": 28,
   "metadata": {},
   "outputs": [],
   "source": [
    "from pathlib import Path\n",
    "%matplotlib qt\n",
    "import matplotlib.pyplot as plt\n",
    "import numpy as np\n",
    "from vel_limit_node import getIdealDistance"
   ]
  },
  {
   "cell_type": "code",
   "execution_count": 29,
   "metadata": {},
   "outputs": [],
   "source": [
    "p = Path(r'/home/hax/09-12-csv').glob('**/*.csv')\n",
    "files = [x for x in p if x.is_file()]"
   ]
  },
  {
   "cell_type": "code",
   "execution_count": 30,
   "metadata": {},
   "outputs": [
    {
     "name": "stdout",
     "output_type": "stream",
     "text": [
      "/home/hax/09-12-csv/_2021-12-09-14-39-53.bag.csv\n"
     ]
    }
   ],
   "source": [
    "print(files[0])"
   ]
  },
  {
   "cell_type": "code",
   "execution_count": 36,
   "metadata": {},
   "outputs": [
    {
     "name": "stderr",
     "output_type": "stream",
     "text": [
      "/tmp/ipykernel_3194/3584937682.py:14: RuntimeWarning: More than 20 figures have been opened. Figures created through the pyplot interface (`matplotlib.pyplot.figure`) are retained until explicitly closed and may consume too much memory. (To control this warning, see the rcParam `figure.max_open_warning`).\n",
      "  fig, ax = plt.subplots(2)\n"
     ]
    }
   ],
   "source": [
    "for file in files:\n",
    "    data = np.loadtxt(file.absolute(), delimiter=',')\n",
    "\n",
    "    vel_list = []\n",
    "    vel_timestamps = []\n",
    "    for i in range(1, len(data)):\n",
    "        dt = data[i,0] - data[i-1,0]\n",
    "        if dt > 0:\n",
    "            dpos = np.linalg.norm(data[i,4:7] - data[i-1,4:7])\n",
    "            vel_list.append(dpos/dt)\n",
    "            vel_timestamps.append(data[i, 0])\n",
    "\n",
    "    ideal_dist = getIdealDistance(data[:, 9])\n",
    "    fig, ax = plt.subplots(2)\n",
    "\n",
    "    ax[0].plot(data[:, 8], data[:, 9], label=\"Human Velocity\")\n",
    "    ax[1].plot(data[:, 8], ideal_dist, label=\"Ideal dist\")\n",
    "    ax[1].plot(data[:, 10], data[:, 11], label=\"Distance to robot\")\n",
    "    ax[0].plot(vel_timestamps, vel_list, label=\"Spot velocity\")\n",
    "    ax[0].set_title(file.name)\n",
    "    ax[0].legend()\n",
    "    ax[1].legend()\n",
    "    ax[0].grid()\n",
    "    ax[1].grid()\n"
   ]
  },
  {
   "cell_type": "code",
   "execution_count": 34,
   "metadata": {},
   "outputs": [],
   "source": [
    "plt.close('all')"
   ]
  }
 ],
 "metadata": {
  "interpreter": {
   "hash": "767d51c1340bd893661ea55ea3124f6de3c7a262a8b4abca0554b478b1e2ff90"
  },
  "kernelspec": {
   "display_name": "Python 3.8.10 64-bit",
   "language": "python",
   "name": "python3"
  },
  "language_info": {
   "codemirror_mode": {
    "name": "ipython",
    "version": 3
   },
   "file_extension": ".py",
   "mimetype": "text/x-python",
   "name": "python",
   "nbconvert_exporter": "python",
   "pygments_lexer": "ipython3",
   "version": "3.8.10"
  },
  "orig_nbformat": 4
 },
 "nbformat": 4,
 "nbformat_minor": 2
}
